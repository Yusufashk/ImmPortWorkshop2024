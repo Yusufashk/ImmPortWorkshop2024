{
 "cells": [
  {
   "cell_type": "code",
   "execution_count": 1,
   "id": "f8853764-77fb-4b75-aec6-31362009f168",
   "metadata": {},
   "outputs": [],
   "source": [
    "#This cell sets everything up, please run this first\n",
    "#Click on the cells to reveal the code\n",
    "import pandas as pd\n",
    "import numpy as np\n",
    "import matplotlib.pyplot as plt\n",
    "import seaborn as sns\n",
    "# Set the style for the plots\n",
    "sns.set(style=\"whitegrid\")\n",
    "\n",
    "# Load the Excel file\n",
    "file_path = r'TutorialSubjects.xlsx'\n",
    "\n",
    "# Load the data from the sheet\n",
    "data = pd.read_excel(file_path, sheet_name='Tutorial Subject Data')"
   ]
  },
  {
   "cell_type": "code",
   "execution_count": null,
   "id": "b6411304-36d7-49b0-8876-5b14daca1ecf",
   "metadata": {},
   "outputs": [],
   "source": [
    "#Create a new cell for every figure, and copy paste your code in it, then run! "
   ]
  }
 ],
 "metadata": {
  "kernelspec": {
   "display_name": "Python 3 (ipykernel)",
   "language": "python",
   "name": "python3"
  },
  "language_info": {
   "codemirror_mode": {
    "name": "ipython",
    "version": 3
   },
   "file_extension": ".py",
   "mimetype": "text/x-python",
   "name": "python",
   "nbconvert_exporter": "python",
   "pygments_lexer": "ipython3",
   "version": "3.11.7"
  }
 },
 "nbformat": 4,
 "nbformat_minor": 5
}
